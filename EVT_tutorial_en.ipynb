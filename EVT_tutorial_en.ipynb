{
 "cells": [
  {
   "cell_type": "markdown",
   "metadata": {
    "id": "view-in-github",
    "colab_type": "text"
   },
   "source": [
    "<a href=\"https://colab.research.google.com/github/yasuhiroinoue/AppMathSci/blob/main/EVT_tutorial_en.ipynb\" target=\"_parent\"><img src=\"https://colab.research.google.com/assets/colab-badge.svg\" alt=\"Open In Colab\"/></a>"
   ]
  },
  {
   "cell_type": "markdown",
   "id": "0bf531ed",
   "metadata": {
    "id": "0bf531ed"
   },
   "source": [
    "\n",
    "# Extreme Value Theory Tutorial (Fixed Version)\n",
    "\n",
    "This Colab‑ready notebook demonstrates **Extreme Value Theory (EVT)** on two open datasets:\n",
    "\n",
    "* **Tokyo daily precipitation** (Open‑Meteo, 1950‑2024)  \n",
    "* **S&P 500 daily log‑returns** (Yahoo Finance, 1950‑2024)\n",
    "\n",
    "Techniques:\n",
    "\n",
    "| Section | Method | Distribution |\n",
    "|---------|--------|--------------|\n",
    "| 4 | Block‑Maxima | Generalized Extreme Value (GEV) |\n",
    "| 5 | Peaks‑Over‑Threshold | Generalized Pareto (GP) |\n",
    "| 6 | Return‑level estimation (GEV & GP) |\n",
    "| 7 | Bootstrap uncertainty |\n",
    "| 8‑B | Non‑stationary GEV (μ = β₀ + β₁·year) |\n"
   ]
  },
  {
   "cell_type": "markdown",
   "metadata": {},
   "source": [
    "## 講義イントロダクション（院生向け）\n",
    "\n",
    "**学習目標**\n",
    "- 極値統計学 (Extreme Value Theory; EVT) の基本概念と工学分野での役割を理解する。\n",
    "- ブロック最大値法と閾値超過法の違いを説明し、適切なモデル（GEV/GPD）を選択できるようにする。\n",
    "- Python を用いたデータ取得・フィッティング・再現期間計算の実装を再現し、結果を批判的に解釈できるようにする。\n",
    "\n",
    "**受講前提**\n",
    "- 基礎的な確率論・統計推測（最尤推定、信頼区間）の知識。\n",
    "- Python によるデータ解析経験（pandas・NumPy・Matplotlib の基礎）。\n",
    "\n",
    "**このノートの進め方**\n",
    "1. まず理論解説セルで背景と数式を確認する。\n",
    "2. 続いてコードセルを実行し、出力の意味や前処理の意図を解説セルで理解する。\n",
    "3. 各セクション末尾のチェックポイントで重要概念を整理し、追加課題で応用力を養う。\n",
    "\n",
    "データセットは Open-Meteo の東京日降水量（1950-2024）と Yahoo Finance の S&P 500 日次リターンを用いる。降雨量は土木・都市防災、株価リターンは金融工学の極値リスク評価を想定した教材である。\n"
   ]
  },
  {
   "cell_type": "code",
   "execution_count": 1,
   "id": "9a12b99d",
   "metadata": {
    "colab": {
     "base_uri": "https://localhost:8080/"
    },
    "id": "9a12b99d",
    "outputId": "1354f324-0333-4be1-ca16-e1216aa5cca2"
   },
   "outputs": [
    {
     "output_type": "stream",
     "name": "stdout",
     "text": [
      "\u001b[31mERROR: Could not find a version that satisfies the requirement evmodels (from versions: none)\u001b[0m\u001b[31m\n",
      "\u001b[0m\u001b[31mERROR: No matching distribution found for evmodels\u001b[0m\u001b[31m\n",
      "\u001b[0m"
     ]
    }
   ],
   "source": [
    "\n",
    "# 1️⃣ Install libraries not pre‑installed in Colab\n",
    "!pip -q install yfinance evmodels\n"
   ]
  },
  {
   "cell_type": "markdown",
   "metadata": {},
   "source": [
    "### 実行環境メモ\n",
    "- Google Colab では `!pip install` で追加ライブラリを導入できるが、学内サーバやローカル環境では事前に `pip install yfinance evmodels` を実行しておく。\n",
    "- ネットワークに接続できない環境では Open-Meteo API や Yahoo Finance からデータを取得できないため、事前に CSV をダウンロードし `pd.read_csv` で読み込む代替案を用意する。\n",
    "- 解析時に再現性を確保するため、ライブラリのバージョンと取得日時を研究ノートに記録しておくこと。\n"
   ]
  },
  {
   "cell_type": "markdown",
   "id": "5b52a6ae",
   "metadata": {
    "id": "5b52a6ae"
   },
   "source": [
    "## 2‑A  Tokyo daily precipitation (Open‑Meteo)"
   ]
  },
  {
   "cell_type": "markdown",
   "metadata": {},
   "source": [
    "### 理論解説：降雨量データと極値解析の文脈\n",
    "- 土木・防災分野では「再現期間 T 年」の設計降雨量が重要であり、長期観測データから極値分布を推定してインフラ設計に反映する。\n",
    "- 日降水量系列は季節性や年々変動を持つため、まずは観測地点を固定し、ブロック化や閾値選択の前提となる独立性・定常性を概観する。\n",
    "- Open-Meteo のアーカイブ API は再現可能なデータ取得手段であり、データ取得プロセス自体を記録しておくことで研究の透明性を確保できる。\n"
   ]
  },
  {
   "cell_type": "code",
   "execution_count": 2,
   "id": "f3c8a71e",
   "metadata": {
    "colab": {
     "base_uri": "https://localhost:8080/",
     "height": 238
    },
    "id": "f3c8a71e",
    "outputId": "f1205066-7e34-443d-e8a2-a0cf6000b4a6"
   },
   "outputs": [
    {
     "output_type": "execute_result",
     "data": {
      "text/plain": [
       "            precip\n",
       "date              \n",
       "1950-01-01     2.4\n",
       "1950-01-02     1.5\n",
       "1950-01-03     9.4\n",
       "1950-01-04     0.0\n",
       "1950-01-05     0.5"
      ],
      "text/html": [
       "\n",
       "  <div id=\"df-84376399-f957-4439-b08c-93e8900fe39f\" class=\"colab-df-container\">\n",
       "    <div>\n",
       "<style scoped>\n",
       "    .dataframe tbody tr th:only-of-type {\n",
       "        vertical-align: middle;\n",
       "    }\n",
       "\n",
       "    .dataframe tbody tr th {\n",
       "        vertical-align: top;\n",
       "    }\n",
       "\n",
       "    .dataframe thead th {\n",
       "        text-align: right;\n",
       "    }\n",
       "</style>\n",
       "<table border=\"1\" class=\"dataframe\">\n",
       "  <thead>\n",
       "    <tr style=\"text-align: right;\">\n",
       "      <th></th>\n",
       "      <th>precip</th>\n",
       "    </tr>\n",
       "    <tr>\n",
       "      <th>date</th>\n",
       "      <th></th>\n",
       "    </tr>\n",
       "  </thead>\n",
       "  <tbody>\n",
       "    <tr>\n",
       "      <th>1950-01-01</th>\n",
       "      <td>2.4</td>\n",
       "    </tr>\n",
       "    <tr>\n",
       "      <th>1950-01-02</th>\n",
       "      <td>1.5</td>\n",
       "    </tr>\n",
       "    <tr>\n",
       "      <th>1950-01-03</th>\n",
       "      <td>9.4</td>\n",
       "    </tr>\n",
       "    <tr>\n",
       "      <th>1950-01-04</th>\n",
       "      <td>0.0</td>\n",
       "    </tr>\n",
       "    <tr>\n",
       "      <th>1950-01-05</th>\n",
       "      <td>0.5</td>\n",
       "    </tr>\n",
       "  </tbody>\n",
       "</table>\n",
       "</div>\n",
       "    <div class=\"colab-df-buttons\">\n",
       "\n",
       "  <div class=\"colab-df-container\">\n",
       "    <button class=\"colab-df-convert\" onclick=\"convertToInteractive('df-84376399-f957-4439-b08c-93e8900fe39f')\"\n",
       "            title=\"Convert this dataframe to an interactive table.\"\n",
       "            style=\"display:none;\">\n",
       "\n",
       "  <svg xmlns=\"http://www.w3.org/2000/svg\" height=\"24px\" viewBox=\"0 -960 960 960\">\n",
       "    <path d=\"M120-120v-720h720v720H120Zm60-500h600v-160H180v160Zm220 220h160v-160H400v160Zm0 220h160v-160H400v160ZM180-400h160v-160H180v160Zm440 0h160v-160H620v160ZM180-180h160v-160H180v160Zm440 0h160v-160H620v160Z\"/>\n",
       "  </svg>\n",
       "    </button>\n",
       "\n",
       "  <style>\n",
       "    .colab-df-container {\n",
       "      display:flex;\n",
       "      gap: 12px;\n",
       "    }\n",
       "\n",
       "    .colab-df-convert {\n",
       "      background-color: #E8F0FE;\n",
       "      border: none;\n",
       "      border-radius: 50%;\n",
       "      cursor: pointer;\n",
       "      display: none;\n",
       "      fill: #1967D2;\n",
       "      height: 32px;\n",
       "      padding: 0 0 0 0;\n",
       "      width: 32px;\n",
       "    }\n",
       "\n",
       "    .colab-df-convert:hover {\n",
       "      background-color: #E2EBFA;\n",
       "      box-shadow: 0px 1px 2px rgba(60, 64, 67, 0.3), 0px 1px 3px 1px rgba(60, 64, 67, 0.15);\n",
       "      fill: #174EA6;\n",
       "    }\n",
       "\n",
       "    .colab-df-buttons div {\n",
       "      margin-bottom: 4px;\n",
       "    }\n",
       "\n",
       "    [theme=dark] .colab-df-convert {\n",
       "      background-color: #3B4455;\n",
       "      fill: #D2E3FC;\n",
       "    }\n",
       "\n",
       "    [theme=dark] .colab-df-convert:hover {\n",
       "      background-color: #434B5C;\n",
       "      box-shadow: 0px 1px 3px 1px rgba(0, 0, 0, 0.15);\n",
       "      filter: drop-shadow(0px 1px 2px rgba(0, 0, 0, 0.3));\n",
       "      fill: #FFFFFF;\n",
       "    }\n",
       "  </style>\n",
       "\n",
       "    <script>\n",
       "      const buttonEl =\n",
       "        document.querySelector('#df-84376399-f957-4439-b08c-93e8900fe39f button.colab-df-convert');\n",
       "      buttonEl.style.display =\n",
       "        google.colab.kernel.accessAllowed ? 'block' : 'none';\n",
       "\n",
       "      async function convertToInteractive(key) {\n",
       "        const element = document.querySelector('#df-84376399-f957-4439-b08c-93e8900fe39f');\n",
       "        const dataTable =\n",
       "          await google.colab.kernel.invokeFunction('convertToInteractive',\n",
       "                                                    [key], {});\n",
       "        if (!dataTable) return;\n",
       "\n",
       "        const docLinkHtml = 'Like what you see? Visit the ' +\n",
       "          '<a target=\"_blank\" href=https://colab.research.google.com/notebooks/data_table.ipynb>data table notebook</a>'\n",
       "          + ' to learn more about interactive tables.';\n",
       "        element.innerHTML = '';\n",
       "        dataTable['output_type'] = 'display_data';\n",
       "        await google.colab.output.renderOutput(dataTable, element);\n",
       "        const docLink = document.createElement('div');\n",
       "        docLink.innerHTML = docLinkHtml;\n",
       "        element.appendChild(docLink);\n",
       "      }\n",
       "    </script>\n",
       "  </div>\n",
       "\n",
       "\n",
       "    <div id=\"df-19f10928-79c4-494a-b66c-774c41e4c680\">\n",
       "      <button class=\"colab-df-quickchart\" onclick=\"quickchart('df-19f10928-79c4-494a-b66c-774c41e4c680')\"\n",
       "                title=\"Suggest charts\"\n",
       "                style=\"display:none;\">\n",
       "\n",
       "<svg xmlns=\"http://www.w3.org/2000/svg\" height=\"24px\"viewBox=\"0 0 24 24\"\n",
       "     width=\"24px\">\n",
       "    <g>\n",
       "        <path d=\"M19 3H5c-1.1 0-2 .9-2 2v14c0 1.1.9 2 2 2h14c1.1 0 2-.9 2-2V5c0-1.1-.9-2-2-2zM9 17H7v-7h2v7zm4 0h-2V7h2v10zm4 0h-2v-4h2v4z\"/>\n",
       "    </g>\n",
       "</svg>\n",
       "      </button>\n",
       "\n",
       "<style>\n",
       "  .colab-df-quickchart {\n",
       "      --bg-color: #E8F0FE;\n",
       "      --fill-color: #1967D2;\n",
       "      --hover-bg-color: #E2EBFA;\n",
       "      --hover-fill-color: #174EA6;\n",
       "      --disabled-fill-color: #AAA;\n",
       "      --disabled-bg-color: #DDD;\n",
       "  }\n",
       "\n",
       "  [theme=dark] .colab-df-quickchart {\n",
       "      --bg-color: #3B4455;\n",
       "      --fill-color: #D2E3FC;\n",
       "      --hover-bg-color: #434B5C;\n",
       "      --hover-fill-color: #FFFFFF;\n",
       "      --disabled-bg-color: #3B4455;\n",
       "      --disabled-fill-color: #666;\n",
       "  }\n",
       "\n",
       "  .colab-df-quickchart {\n",
       "    background-color: var(--bg-color);\n",
       "    border: none;\n",
       "    border-radius: 50%;\n",
       "    cursor: pointer;\n",
       "    display: none;\n",
       "    fill: var(--fill-color);\n",
       "    height: 32px;\n",
       "    padding: 0;\n",
       "    width: 32px;\n",
       "  }\n",
       "\n",
       "  .colab-df-quickchart:hover {\n",
       "    background-color: var(--hover-bg-color);\n",
       "    box-shadow: 0 1px 2px rgba(60, 64, 67, 0.3), 0 1px 3px 1px rgba(60, 64, 67, 0.15);\n",
       "    fill: var(--button-hover-fill-color);\n",
       "  }\n",
       "\n",
       "  .colab-df-quickchart-complete:disabled,\n",
       "  .colab-df-quickchart-complete:disabled:hover {\n",
       "    background-color: var(--disabled-bg-color);\n",
       "    fill: var(--disabled-fill-color);\n",
       "    box-shadow: none;\n",
       "  }\n",
       "\n",
       "  .colab-df-spinner {\n",
       "    border: 2px solid var(--fill-color);\n",
       "    border-color: transparent;\n",
       "    border-bottom-color: var(--fill-color);\n",
       "    animation:\n",
       "      spin 1s steps(1) infinite;\n",
       "  }\n",
       "\n",
       "  @keyframes spin {\n",
       "    0% {\n",
       "      border-color: transparent;\n",
       "      border-bottom-color: var(--fill-color);\n",
       "      border-left-color: var(--fill-color);\n",
       "    }\n",
       "    20% {\n",
       "      border-color: transparent;\n",
       "      border-left-color: var(--fill-color);\n",
       "      border-top-color: var(--fill-color);\n",
       "    }\n",
       "    30% {\n",
       "      border-color: transparent;\n",
       "      border-left-color: var(--fill-color);\n",
       "      border-top-color: var(--fill-color);\n",
       "      border-right-color: var(--fill-color);\n",
       "    }\n",
       "    40% {\n",
       "      border-color: transparent;\n",
       "      border-right-color: var(--fill-color);\n",
       "      border-top-color: var(--fill-color);\n",
       "    }\n",
       "    60% {\n",
       "      border-color: transparent;\n",
       "      border-right-color: var(--fill-color);\n",
       "    }\n",
       "    80% {\n",
       "      border-color: transparent;\n",
       "      border-right-color: var(--fill-color);\n",
       "      border-bottom-color: var(--fill-color);\n",
       "    }\n",
       "    90% {\n",
       "      border-color: transparent;\n",
       "      border-bottom-color: var(--fill-color);\n",
       "    }\n",
       "  }\n",
       "</style>\n",
       "\n",
       "      <script>\n",
       "        async function quickchart(key) {\n",
       "          const quickchartButtonEl =\n",
       "            document.querySelector('#' + key + ' button');\n",
       "          quickchartButtonEl.disabled = true;  // To prevent multiple clicks.\n",
       "          quickchartButtonEl.classList.add('colab-df-spinner');\n",
       "          try {\n",
       "            const charts = await google.colab.kernel.invokeFunction(\n",
       "                'suggestCharts', [key], {});\n",
       "          } catch (error) {\n",
       "            console.error('Error during call to suggestCharts:', error);\n",
       "          }\n",
       "          quickchartButtonEl.classList.remove('colab-df-spinner');\n",
       "          quickchartButtonEl.classList.add('colab-df-quickchart-complete');\n",
       "        }\n",
       "        (() => {\n",
       "          let quickchartButtonEl =\n",
       "            document.querySelector('#df-19f10928-79c4-494a-b66c-774c41e4c680 button');\n",
       "          quickchartButtonEl.style.display =\n",
       "            google.colab.kernel.accessAllowed ? 'block' : 'none';\n",
       "        })();\n",
       "      </script>\n",
       "    </div>\n",
       "\n",
       "    </div>\n",
       "  </div>\n"
      ],
      "application/vnd.google.colaboratory.intrinsic+json": {
       "type": "dataframe",
       "variable_name": "tokyo",
       "summary": "{\n  \"name\": \"tokyo\",\n  \"rows\": 27394,\n  \"fields\": [\n    {\n      \"column\": \"date\",\n      \"properties\": {\n        \"dtype\": \"date\",\n        \"min\": \"1950-01-01 00:00:00\",\n        \"max\": \"2024-12-31 00:00:00\",\n        \"num_unique_values\": 27394,\n        \"samples\": [\n          \"1954-09-07 00:00:00\",\n          \"1965-02-04 00:00:00\",\n          \"1953-01-14 00:00:00\"\n        ],\n        \"semantic_type\": \"\",\n        \"description\": \"\"\n      }\n    },\n    {\n      \"column\": \"precip\",\n      \"properties\": {\n        \"dtype\": \"number\",\n        \"std\": 9.727586822927195,\n        \"min\": 0.0,\n        \"max\": 238.2,\n        \"num_unique_values\": 646,\n        \"samples\": [\n          66.2,\n          23.3,\n          37.8\n        ],\n        \"semantic_type\": \"\",\n        \"description\": \"\"\n      }\n    }\n  ]\n}"
      }
     },
     "metadata": {},
     "execution_count": 2
    }
   ],
   "source": [
    "\n",
    "import requests, pandas as pd, numpy as np, matplotlib.pyplot as plt\n",
    "\n",
    "lat, lon = 35.68, 139.76  # Central Tokyo\n",
    "url = (\n",
    "    \"https://archive-api.open-meteo.com/v1/archive?\"\n",
    "    f\"latitude={lat}&longitude={lon}&daily=precipitation_sum\"\n",
    "    \"&start_date=1950-01-01&end_date=2024-12-31&timezone=Asia/Tokyo\"\n",
    ")\n",
    "data = requests.get(url, timeout=30).json()\n",
    "tokyo = pd.DataFrame({\n",
    "    \"date\": pd.to_datetime(data[\"daily\"][\"time\"]),\n",
    "    \"precip\": data[\"daily\"][\"precipitation_sum\"]\n",
    "}).set_index(\"date\")\n",
    "tokyo.head()\n"
   ]
  },
  {
   "cell_type": "markdown",
   "metadata": {},
   "source": [
    "### コード解説：Open-Meteo からのデータ取得\n",
    "1. `requests` で REST API を叩き、日別降水量 `precipitation_sum` を JSON 形式で取得する。\n",
    "2. `pandas.DataFrame` に整形し、`date` を日時インデックスに設定することで、後続のリサンプリング（年最大値など）が容易になる。\n",
    "3. レスポンスの欠測値や API エラーを検知するため、実務では `status_code` の確認や `try-except` を追加する。\n",
    "\n",
    "**チェックポイント**\n",
    "- 期間 1950-2024 年という長系列は気候変動による非定常性を含む可能性がある。\n",
    "- 気象庁など公式データとの差異を検証し、品質管理を行う。\n"
   ]
  },
  {
   "cell_type": "markdown",
   "id": "1812c671",
   "metadata": {
    "id": "1812c671"
   },
   "source": [
    "## 2‑B  S&P 500 daily log‑returns (Yahoo Finance)"
   ]
  },
  {
   "cell_type": "markdown",
   "metadata": {},
   "source": [
    "### 理論解説：金融リターン系列と極値\n",
    "- 株価水準よりも対数リターンを解析対象とすることで、時間軸に対して加法的な性質と対数正規仮定の近似が得られる。\n",
    "- 金融リターンは自己相関が小さいと仮定される一方、厚い裾を持つため極値解析の対象となる。\n",
    "- 本教材では降雨量と対照させる目的でリターン系列を紹介するが、以降の理論展開は気象データに焦点を当てる。\n"
   ]
  },
  {
   "cell_type": "code",
   "execution_count": 3,
   "id": "ae9483b3",
   "metadata": {
    "colab": {
     "base_uri": "https://localhost:8080/",
     "height": 269
    },
    "id": "ae9483b3",
    "outputId": "2f5b6379-4d47-4e1b-8e65-b46b4fde48c1"
   },
   "outputs": [
    {
     "output_type": "execute_result",
     "data": {
      "text/plain": [
       "Price           Close       High        Low       Open   Volume    logret\n",
       "Ticker          ^GSPC      ^GSPC      ^GSPC      ^GSPC    ^GSPC          \n",
       "Date                                                                     \n",
       "1950-01-04  16.850000  16.850000  16.850000  16.850000  1890000  0.011340\n",
       "1950-01-05  16.930000  16.930000  16.930000  16.930000  2550000  0.004737\n",
       "1950-01-06  16.980000  16.980000  16.980000  16.980000  2010000  0.002949\n",
       "1950-01-09  17.080000  17.080000  17.080000  17.080000  2520000  0.005872\n",
       "1950-01-10  17.030001  17.030001  17.030001  17.030001  2160000 -0.002932"
      ],
      "text/html": [
       "\n",
       "  <div id=\"df-93fd536e-e473-4149-951c-569d8b8eb58a\" class=\"colab-df-container\">\n",
       "    <div>\n",
       "<style scoped>\n",
       "    .dataframe tbody tr th:only-of-type {\n",
       "        vertical-align: middle;\n",
       "    }\n",
       "\n",
       "    .dataframe tbody tr th {\n",
       "        vertical-align: top;\n",
       "    }\n",
       "\n",
       "    .dataframe thead tr th {\n",
       "        text-align: left;\n",
       "    }\n",
       "\n",
       "    .dataframe thead tr:last-of-type th {\n",
       "        text-align: right;\n",
       "    }\n",
       "</style>\n",
       "<table border=\"1\" class=\"dataframe\">\n",
       "  <thead>\n",
       "    <tr>\n",
       "      <th>Price</th>\n",
       "      <th>Close</th>\n",
       "      <th>High</th>\n",
       "      <th>Low</th>\n",
       "      <th>Open</th>\n",
       "      <th>Volume</th>\n",
       "      <th>logret</th>\n",
       "    </tr>\n",
       "    <tr>\n",
       "      <th>Ticker</th>\n",
       "      <th>^GSPC</th>\n",
       "      <th>^GSPC</th>\n",
       "      <th>^GSPC</th>\n",
       "      <th>^GSPC</th>\n",
       "      <th>^GSPC</th>\n",
       "      <th></th>\n",
       "    </tr>\n",
       "    <tr>\n",
       "      <th>Date</th>\n",
       "      <th></th>\n",
       "      <th></th>\n",
       "      <th></th>\n",
       "      <th></th>\n",
       "      <th></th>\n",
       "      <th></th>\n",
       "    </tr>\n",
       "  </thead>\n",
       "  <tbody>\n",
       "    <tr>\n",
       "      <th>1950-01-04</th>\n",
       "      <td>16.850000</td>\n",
       "      <td>16.850000</td>\n",
       "      <td>16.850000</td>\n",
       "      <td>16.850000</td>\n",
       "      <td>1890000</td>\n",
       "      <td>0.011340</td>\n",
       "    </tr>\n",
       "    <tr>\n",
       "      <th>1950-01-05</th>\n",
       "      <td>16.930000</td>\n",
       "      <td>16.930000</td>\n",
       "      <td>16.930000</td>\n",
       "      <td>16.930000</td>\n",
       "      <td>2550000</td>\n",
       "      <td>0.004737</td>\n",
       "    </tr>\n",
       "    <tr>\n",
       "      <th>1950-01-06</th>\n",
       "      <td>16.980000</td>\n",
       "      <td>16.980000</td>\n",
       "      <td>16.980000</td>\n",
       "      <td>16.980000</td>\n",
       "      <td>2010000</td>\n",
       "      <td>0.002949</td>\n",
       "    </tr>\n",
       "    <tr>\n",
       "      <th>1950-01-09</th>\n",
       "      <td>17.080000</td>\n",
       "      <td>17.080000</td>\n",
       "      <td>17.080000</td>\n",
       "      <td>17.080000</td>\n",
       "      <td>2520000</td>\n",
       "      <td>0.005872</td>\n",
       "    </tr>\n",
       "    <tr>\n",
       "      <th>1950-01-10</th>\n",
       "      <td>17.030001</td>\n",
       "      <td>17.030001</td>\n",
       "      <td>17.030001</td>\n",
       "      <td>17.030001</td>\n",
       "      <td>2160000</td>\n",
       "      <td>-0.002932</td>\n",
       "    </tr>\n",
       "  </tbody>\n",
       "</table>\n",
       "</div>\n",
       "    <div class=\"colab-df-buttons\">\n",
       "\n",
       "  <div class=\"colab-df-container\">\n",
       "    <button class=\"colab-df-convert\" onclick=\"convertToInteractive('df-93fd536e-e473-4149-951c-569d8b8eb58a')\"\n",
       "            title=\"Convert this dataframe to an interactive table.\"\n",
       "            style=\"display:none;\">\n",
       "\n",
       "  <svg xmlns=\"http://www.w3.org/2000/svg\" height=\"24px\" viewBox=\"0 -960 960 960\">\n",
       "    <path d=\"M120-120v-720h720v720H120Zm60-500h600v-160H180v160Zm220 220h160v-160H400v160Zm0 220h160v-160H400v160ZM180-400h160v-160H180v160Zm440 0h160v-160H620v160ZM180-180h160v-160H180v160Zm440 0h160v-160H620v160Z\"/>\n",
       "  </svg>\n",
       "    </button>\n",
       "\n",
       "  <style>\n",
       "    .colab-df-container {\n",
       "      display:flex;\n",
       "      gap: 12px;\n",
       "    }\n",
       "\n",
       "    .colab-df-convert {\n",
       "      background-color: #E8F0FE;\n",
       "      border: none;\n",
       "      border-radius: 50%;\n",
       "      cursor: pointer;\n",
       "      display: none;\n",
       "      fill: #1967D2;\n",
       "      height: 32px;\n",
       "      padding: 0 0 0 0;\n",
       "      width: 32px;\n",
       "    }\n",
       "\n",
       "    .colab-df-convert:hover {\n",
       "      background-color: #E2EBFA;\n",
       "      box-shadow: 0px 1px 2px rgba(60, 64, 67, 0.3), 0px 1px 3px 1px rgba(60, 64, 67, 0.15);\n",
       "      fill: #174EA6;\n",
       "    }\n",
       "\n",
       "    .colab-df-buttons div {\n",
       "      margin-bottom: 4px;\n",
       "    }\n",
       "\n",
       "    [theme=dark] .colab-df-convert {\n",
       "      background-color: #3B4455;\n",
       "      fill: #D2E3FC;\n",
       "    }\n",
       "\n",
       "    [theme=dark] .colab-df-convert:hover {\n",
       "      background-color: #434B5C;\n",
       "      box-shadow: 0px 1px 3px 1px rgba(0, 0, 0, 0.15);\n",
       "      filter: drop-shadow(0px 1px 2px rgba(0, 0, 0, 0.3));\n",
       "      fill: #FFFFFF;\n",
       "    }\n",
       "  </style>\n",
       "\n",
       "    <script>\n",
       "      const buttonEl =\n",
       "        document.querySelector('#df-93fd536e-e473-4149-951c-569d8b8eb58a button.colab-df-convert');\n",
       "      buttonEl.style.display =\n",
       "        google.colab.kernel.accessAllowed ? 'block' : 'none';\n",
       "\n",
       "      async function convertToInteractive(key) {\n",
       "        const element = document.querySelector('#df-93fd536e-e473-4149-951c-569d8b8eb58a');\n",
       "        const dataTable =\n",
       "          await google.colab.kernel.invokeFunction('convertToInteractive',\n",
       "                                                    [key], {});\n",
       "        if (!dataTable) return;\n",
       "\n",
       "        const docLinkHtml = 'Like what you see? Visit the ' +\n",
       "          '<a target=\"_blank\" href=https://colab.research.google.com/notebooks/data_table.ipynb>data table notebook</a>'\n",
       "          + ' to learn more about interactive tables.';\n",
       "        element.innerHTML = '';\n",
       "        dataTable['output_type'] = 'display_data';\n",
       "        await google.colab.output.renderOutput(dataTable, element);\n",
       "        const docLink = document.createElement('div');\n",
       "        docLink.innerHTML = docLinkHtml;\n",
       "        element.appendChild(docLink);\n",
       "      }\n",
       "    </script>\n",
       "  </div>\n",
       "\n",
       "\n",
       "    <div id=\"df-8544aaea-5504-4640-95f1-357cfd66d7a9\">\n",
       "      <button class=\"colab-df-quickchart\" onclick=\"quickchart('df-8544aaea-5504-4640-95f1-357cfd66d7a9')\"\n",
       "                title=\"Suggest charts\"\n",
       "                style=\"display:none;\">\n",
       "\n",
       "<svg xmlns=\"http://www.w3.org/2000/svg\" height=\"24px\"viewBox=\"0 0 24 24\"\n",
       "     width=\"24px\">\n",
       "    <g>\n",
       "        <path d=\"M19 3H5c-1.1 0-2 .9-2 2v14c0 1.1.9 2 2 2h14c1.1 0 2-.9 2-2V5c0-1.1-.9-2-2-2zM9 17H7v-7h2v7zm4 0h-2V7h2v10zm4 0h-2v-4h2v4z\"/>\n",
       "    </g>\n",
       "</svg>\n",
       "      </button>\n",
       "\n",
       "<style>\n",
       "  .colab-df-quickchart {\n",
       "      --bg-color: #E8F0FE;\n",
       "      --fill-color: #1967D2;\n",
       "      --hover-bg-color: #E2EBFA;\n",
       "      --hover-fill-color: #174EA6;\n",
       "      --disabled-fill-color: #AAA;\n",
       "      --disabled-bg-color: #DDD;\n",
       "  }\n",
       "\n",
       "  [theme=dark] .colab-df-quickchart {\n",
       "      --bg-color: #3B4455;\n",
       "      --fill-color: #D2E3FC;\n",
       "      --hover-bg-color: #434B5C;\n",
       "      --hover-fill-color: #FFFFFF;\n",
       "      --disabled-bg-color: #3B4455;\n",
       "      --disabled-fill-color: #666;\n",
       "  }\n",
       "\n",
       "  .colab-df-quickchart {\n",
       "    background-color: var(--bg-color);\n",
       "    border: none;\n",
       "    border-radius: 50%;\n",
       "    cursor: pointer;\n",
       "    display: none;\n",
       "    fill: var(--fill-color);\n",
       "    height: 32px;\n",
       "    padding: 0;\n",
       "    width: 32px;\n",
       "  }\n",
       "\n",
       "  .colab-df-quickchart:hover {\n",
       "    background-color: var(--hover-bg-color);\n",
       "    box-shadow: 0 1px 2px rgba(60, 64, 67, 0.3), 0 1px 3px 1px rgba(60, 64, 67, 0.15);\n",
       "    fill: var(--button-hover-fill-color);\n",
       "  }\n",
       "\n",
       "  .colab-df-quickchart-complete:disabled,\n",
       "  .colab-df-quickchart-complete:disabled:hover {\n",
       "    background-color: var(--disabled-bg-color);\n",
       "    fill: var(--disabled-fill-color);\n",
       "    box-shadow: none;\n",
       "  }\n",
       "\n",
       "  .colab-df-spinner {\n",
       "    border: 2px solid var(--fill-color);\n",
       "    border-color: transparent;\n",
       "    border-bottom-color: var(--fill-color);\n",
       "    animation:\n",
       "      spin 1s steps(1) infinite;\n",
       "  }\n",
       "\n",
       "  @keyframes spin {\n",
       "    0% {\n",
       "      border-color: transparent;\n",
       "      border-bottom-color: var(--fill-color);\n",
       "      border-left-color: var(--fill-color);\n",
       "    }\n",
       "    20% {\n",
       "      border-color: transparent;\n",
       "      border-left-color: var(--fill-color);\n",
       "      border-top-color: var(--fill-color);\n",
       "    }\n",
       "    30% {\n",
       "      border-color: transparent;\n",
       "      border-left-color: var(--fill-color);\n",
       "      border-top-color: var(--fill-color);\n",
       "      border-right-color: var(--fill-color);\n",
       "    }\n",
       "    40% {\n",
       "      border-color: transparent;\n",
       "      border-right-color: var(--fill-color);\n",
       "      border-top-color: var(--fill-color);\n",
       "    }\n",
       "    60% {\n",
       "      border-color: transparent;\n",
       "      border-right-color: var(--fill-color);\n",
       "    }\n",
       "    80% {\n",
       "      border-color: transparent;\n",
       "      border-right-color: var(--fill-color);\n",
       "      border-bottom-color: var(--fill-color);\n",
       "    }\n",
       "    90% {\n",
       "      border-color: transparent;\n",
       "      border-bottom-color: var(--fill-color);\n",
       "    }\n",
       "  }\n",
       "</style>\n",
       "\n",
       "      <script>\n",
       "        async function quickchart(key) {\n",
       "          const quickchartButtonEl =\n",
       "            document.querySelector('#' + key + ' button');\n",
       "          quickchartButtonEl.disabled = true;  // To prevent multiple clicks.\n",
       "          quickchartButtonEl.classList.add('colab-df-spinner');\n",
       "          try {\n",
       "            const charts = await google.colab.kernel.invokeFunction(\n",
       "                'suggestCharts', [key], {});\n",
       "          } catch (error) {\n",
       "            console.error('Error during call to suggestCharts:', error);\n",
       "          }\n",
       "          quickchartButtonEl.classList.remove('colab-df-spinner');\n",
       "          quickchartButtonEl.classList.add('colab-df-quickchart-complete');\n",
       "        }\n",
       "        (() => {\n",
       "          let quickchartButtonEl =\n",
       "            document.querySelector('#df-8544aaea-5504-4640-95f1-357cfd66d7a9 button');\n",
       "          quickchartButtonEl.style.display =\n",
       "            google.colab.kernel.accessAllowed ? 'block' : 'none';\n",
       "        })();\n",
       "      </script>\n",
       "    </div>\n",
       "\n",
       "    </div>\n",
       "  </div>\n"
      ],
      "application/vnd.google.colaboratory.intrinsic+json": {
       "type": "dataframe",
       "variable_name": "sp",
       "summary": "{\n  \"name\": \"sp\",\n  \"rows\": 18966,\n  \"fields\": [\n    {\n      \"column\": [\n        \"Date\",\n        \"\"\n      ],\n      \"properties\": {\n        \"dtype\": \"date\",\n        \"min\": \"1950-01-04 00:00:00\",\n        \"max\": \"2025-05-21 00:00:00\",\n        \"num_unique_values\": 18966,\n        \"samples\": [\n          \"2012-06-01 00:00:00\",\n          \"1963-08-01 00:00:00\",\n          \"1994-09-15 00:00:00\"\n        ],\n        \"semantic_type\": \"\",\n        \"description\": \"\"\n      }\n    },\n    {\n      \"column\": [\n        \"Close\",\n        \"^GSPC\"\n      ],\n      \"properties\": {\n        \"dtype\": \"number\",\n        \"std\": 1216.6752714503843,\n        \"min\": 16.670000076293945,\n        \"max\": 6144.14990234375,\n        \"num_unique_values\": 15621,\n        \"samples\": [\n          85.05000305175781,\n          385.5,\n          4129.7900390625\n        ],\n        \"semantic_type\": \"\",\n        \"description\": \"\"\n      }\n    },\n    {\n      \"column\": [\n        \"High\",\n        \"^GSPC\"\n      ],\n      \"properties\": {\n        \"dtype\": \"number\",\n        \"std\": 1223.1338451512565,\n        \"min\": 16.670000076293945,\n        \"max\": 6147.43017578125,\n        \"num_unique_values\": 15623,\n        \"samples\": [\n          2830.72998046875,\n          941.4000244140625,\n          1541.5699462890625\n        ],\n        \"semantic_type\": \"\",\n        \"description\": \"\"\n      }\n    },\n    {\n      \"column\": [\n        \"Low\",\n        \"^GSPC\"\n      ],\n      \"properties\": {\n        \"dtype\": \"number\",\n        \"std\": 1209.282967014317,\n        \"min\": 16.670000076293945,\n        \"max\": 6111.14990234375,\n        \"num_unique_values\": 15620,\n        \"samples\": [\n          104.06999969482422,\n          815.780029296875,\n          1438.3599853515625\n        ],\n        \"semantic_type\": \"\",\n        \"description\": \"\"\n      }\n    },\n    {\n      \"column\": [\n        \"Open\",\n        \"^GSPC\"\n      ],\n      \"properties\": {\n        \"dtype\": \"number\",\n        \"std\": 1233.1964892343328,\n        \"min\": 0.0,\n        \"max\": 6134.5,\n        \"num_unique_values\": 12510,\n        \"samples\": [\n          37.7400016784668,\n          3225.97998046875,\n          584.4099731445312\n        ],\n        \"semantic_type\": \"\",\n        \"description\": \"\"\n      }\n    },\n    {\n      \"column\": [\n        \"Volume\",\n        \"^GSPC\"\n      ],\n      \"properties\": {\n        \"dtype\": \"number\",\n        \"std\": 1780086396,\n        \"min\": 680000,\n        \"max\": 11456230000,\n        \"num_unique_values\": 13182,\n        \"samples\": [\n          17660000,\n          177390000,\n          5192410000\n        ],\n        \"semantic_type\": \"\",\n        \"description\": \"\"\n      }\n    },\n    {\n      \"column\": [\n        \"logret\",\n        \"\"\n      ],\n      \"properties\": {\n        \"dtype\": \"number\",\n        \"std\": 0.009989215223525891,\n        \"min\": -0.22899728603345348,\n        \"max\": 0.10957196759533883,\n        \"num_unique_values\": 18797,\n        \"samples\": [\n          0.001766601906840748,\n          -0.0017621552658058093,\n          0.007674090955199553\n        ],\n        \"semantic_type\": \"\",\n        \"description\": \"\"\n      }\n    }\n  ]\n}"
      }
     },
     "metadata": {},
     "execution_count": 3
    }
   ],
   "source": [
    "\n",
    "import yfinance as yf, numpy as np\n",
    "sp = yf.download(\"^GSPC\", start=\"1950-01-03\", auto_adjust=True, progress=False)\n",
    "sp[\"logret\"] = np.log(sp[\"Close\"]).diff().dropna()\n",
    "sp = sp.dropna()\n",
    "sp.head()\n"
   ]
  },
  {
   "cell_type": "markdown",
   "metadata": {},
   "source": [
    "### コード解説：Yahoo Finance からのリターン算出\n",
    "1. `yfinance.download` で S&P 500 指数を取得し、株式分割等を考慮するため `auto_adjust=True` を利用する。\n",
    "2. `np.log` の差分で `logret` 列を作成し、`dropna()` で初期の欠測を除去する。\n",
    "3. 金融データは取引休場日があるため、欠損日付を補完する場合は市場カレンダーを参照する。\n",
    "\n",
    "**ディスカッション**\n",
    "- どの程度の期間を対象にするかで、極値推定結果（特に裾の厚さ）が変わりうる。\n"
   ]
  },
  {
   "cell_type": "markdown",
   "id": "292194d2",
   "metadata": {
    "id": "292194d2"
   },
   "source": [
    "## 3  Exploratory Data Analysis"
   ]
  },
  {
   "cell_type": "markdown",
   "metadata": {},
   "source": [
    "### 理論解説：探索的データ解析 (EDA)\n",
    "- 極値解析の前に時系列全体の傾向・季節性・外れ値を把握して前処理方針を決める。\n",
    "- ブロック最大値法ではブロック内の独立性が重要なため、強い自己相関が見られる場合はデトレンドや季節調整を検討する。\n",
    "- 降水量データはゼロが多い離散的な分布であることに留意し、不要なゼロを取り除く閾値処理を行うかどうか考える。\n"
   ]
  },
  {
   "cell_type": "code",
   "execution_count": 4,
   "id": "6ddd03a4",
   "metadata": {
    "colab": {
     "base_uri": "https://localhost:8080/",
     "height": 333
    },
    "id": "6ddd03a4",
    "outputId": "7f66fa53-73c7-413f-8649-fed9630538bc"
   },
   "outputs": [
    {
     "output_type": "display_data",
     "data": {
      "text/plain": [
       "<Figure size 1200x300 with 1 Axes>"
      ],
      "image/png": "[encoded data removed]"
     },
     "metadata": {}
    }
   ],
   "source": [
    "\n",
    "tokyo[\"precip\"].plot(figsize=(12,3), title=\"Daily precipitation (Tokyo)\")\n",
    "plt.ylabel(\"mm\");\n",
    "\n",
    "# sp[\"logret\"].hist(bins=100, figsize=(6,3))\n",
    "# plt.title(\"Daily log returns (S&P 500)\");\n"
   ]
  },
  {
   "cell_type": "markdown",
   "metadata": {},
   "source": [
    "### コード解説：可視化のポイント\n",
    "- `resample` 前の生データを可視化し、長期トレンドや観測の欠測を目視確認する。\n",
    "- 同様に株価リターンのヒストグラムを描けば厚い裾（レヴィ過程に近い振る舞い）を確認できる。\n",
    "- グラフの縦軸単位（mm）や期間を明示し、図表番号を付けて講義資料に転記しやすくする。\n"
   ]
  },
  {
   "cell_type": "markdown",
   "id": "e515c15a",
   "metadata": {
    "id": "e515c15a"
   },
   "source": [
    "## 4  Block‑Maxima → GEV"
   ]
  },
  {
   "cell_type": "markdown",
   "metadata": {},
   "source": [
    "### 理論解説：ブロック最大値法と GEV 分布\n",
    "- Fisher–Tippett–Gnedenko の極限定理により、独立同分布な系列の最大値の極限分布は GEV（Generalized Extreme Value）に収束する。\n",
    "- GEV のパラメータは形状 ξ (xi)、位置 μ (mu)、尺度 σ (sigma) であり、ξ の符号により Gumbel/Fréchet/Weibull 型に分類される。\n",
    "- 年最大値（Yearly Block）を用いる場合、季節変化を持つ日降水量を 1 年単位で最大化することでブロック内の依存を緩和する。\n",
    "- モデル適合度は QQ プロットや Kolmogorov–Smirnov 検定、AIC などで評価する。\n"
   ]
  },
  {
   "cell_type": "code",
   "execution_count": 5,
   "id": "87a254bc",
   "metadata": {
    "colab": {
     "base_uri": "https://localhost:8080/",
     "height": 490
    },
    "id": "87a254bc",
    "outputId": "e3c8a9e3-4569-46f1-e354-cc296fd80bb5"
   },
   "outputs": [
    {
     "output_type": "stream",
     "name": "stdout",
     "text": [
      "GEV parameters  xi=0.185,  mu=73.5,  sigma=22.1\n"
     ]
    },
    {
     "output_type": "display_data",
     "data": {
      "text/plain": [
       "<Figure size 640x480 with 1 Axes>"
      ],
      "image/png": "[encoded data removed]"
     },
     "metadata": {}
    }
   ],
   "source": [
    "\n",
    "from scipy.stats import genextreme\n",
    "import statsmodels.api as sm\n",
    "\n",
    "annual_max = tokyo[\"precip\"].resample(\"YE\").max().dropna()\n",
    "c, loc, scale = genextreme.fit(annual_max)  # SciPy: shape = -xi\n",
    "xi = -c\n",
    "print(f\"GEV parameters  xi={xi:.3f},  mu={loc:.1f},  sigma={scale:.1f}\")\n",
    "\n",
    "sm.ProbPlot(annual_max, genextreme, distargs=(c,), loc=loc, scale=scale).qqplot(line=\"45\")\n",
    "plt.title(\"GEV QQ‑plot (Tokyo annual maxima)\");\n"
   ]
  },
  {
   "cell_type": "markdown",
   "metadata": {},
   "source": [
    "### コード解説：GEV フィッティング\n",
    "1. `resample(\"YE\").max()` で毎年の最大降水量を計算し、`dropna()` で欠測年を除外する。\n",
    "2. `genextreme.fit` は SciPy の最尤推定であり、SciPy のパラメータ化では形状 `c = -ξ` に注意する。\n",
    "3. 推定結果を QQ プロットで可視化し、直線からの逸脱が小さいほどモデル適合が良い。\n",
    "\n",
    "**チェックポイント**\n",
    "- 年ブロックでは季節変化を平均化するが、短期的な依存が残る可能性がある。\n",
    "- 代替として月ブロック・季節ブロック等を検討し、設計目的に応じて比較する。\n"
   ]
  },
  {
   "cell_type": "markdown",
   "id": "448e4e9f",
   "metadata": {
    "id": "448e4e9f"
   },
   "source": [
    "## 5  Peaks‑Over‑Threshold → GP (with custom Mean Residual Life)"
   ]
  },
  {
   "cell_type": "markdown",
   "metadata": {},
   "source": [
    "### 理論解説：閾値超過法 (POT) と Generalized Pareto\n",
    "- Pickands–Balkema–de Haan 定理により、高い閾値を超える超過量は GP (Generalized Pareto) 分布で近似できる。\n",
    "- 閾値 `u` は高すぎても低すぎても推定が不安定になるため、Mean Residual Life (MRL) プロット等で妥当性を判断する。\n",
    "- POT 法は限られた上位データのみを利用するため、データ効率が高く、頻度の小さい極端事象でも推定が可能。\n"
   ]
  },
  {
   "cell_type": "code",
   "execution_count": 6,
   "id": "aa812d23",
   "metadata": {
    "colab": {
     "base_uri": "https://localhost:8080/",
     "height": 490
    },
    "id": "aa812d23",
    "outputId": "8d1c68a0-d04f-4c71-9409-b9f4203c5efd"
   },
   "outputs": [
    {
     "output_type": "stream",
     "name": "stdout",
     "text": [
      "GP parameters  xi=0.148,  sigma=14.1,  threshold u=20.8 mm\n"
     ]
    },
    {
     "output_type": "display_data",
     "data": {
      "text/plain": [
       "<Figure size 640x480 with 1 Axes>"
      ],
      "image/png": "[encoded data removed]"
     },
     "metadata": {}
    }
   ],
   "source": [
    "\n",
    "from scipy.stats import genpareto\n",
    "\n",
    "# Threshold u = 95th percentile\n",
    "u = tokyo[\"precip\"].quantile(0.95)\n",
    "\n",
    "# Excesses above u\n",
    "exceed = tokyo[\"precip\"][tokyo[\"precip\"] > u] - u\n",
    "\n",
    "# Fit GP (location fixed at 0)\n",
    "xi_gp, loc_gp, sigma_gp = genpareto.fit(exceed, floc=0)\n",
    "print(f\"GP parameters  xi={xi_gp:.3f},  sigma={sigma_gp:.1f},  threshold u={u:.1f} mm\")\n",
    "\n",
    "# Mean Residual Life plot\n",
    "def mean_residual_life(x, thresholds):\n",
    "    mrl = []\n",
    "    for thr in thresholds:\n",
    "        exc = x[x > thr] - thr\n",
    "        mrl.append(exc.mean() if exc.size else np.nan)\n",
    "    return thresholds, np.array(mrl)\n",
    "\n",
    "u_grid = np.quantile(tokyo[\"precip\"], np.linspace(0.70, 0.99, 30))\n",
    "u_vals, mrl_vals = mean_residual_life(tokyo[\"precip\"].values, u_grid)\n",
    "\n",
    "plt.plot(u_vals, mrl_vals, \"o-\")\n",
    "plt.axvline(u, color=\"k\", ls=\"--\", label=f\"chosen u = {u:.1f} mm\")\n",
    "plt.xlabel(\"Threshold u\"); plt.ylabel(\"Mean excess\")\n",
    "plt.title(\"Mean Residual Life plot\")\n",
    "plt.legend();\n"
   ]
  },
  {
   "cell_type": "markdown",
   "metadata": {},
   "source": [
    "### コード解説：閾値選択と GP フィット\n",
    "1. `quantile(0.95)` を初期閾値とし、`tokyo[\"precip\"] > u` で超過データを抽出する。\n",
    "2. `genpareto.fit` で閾値超過量 (`exceed`) に対して最尤推定を行い、位置パラメータは 0 に固定する。\n",
    "3. MRL プロットを自作し、閾値付近で平均超過量がほぼ線形になっているか確認する。\n",
    "\n",
    "**チェックポイント**\n",
    "- 閾値は固定値ではなく、感度分析で複数候補を比較する。\n",
    "- 降水量のようにゼロが多い系列では、事前に無降雨日の扱いを定義しておく。\n"
   ]
  },
  {
   "cell_type": "markdown",
   "id": "c5baaa3c",
   "metadata": {
    "id": "c5baaa3c"
   },
   "source": [
    "## 6  Return Levels (corrected GP calculation)"
   ]
  },
  {
   "cell_type": "markdown",
   "metadata": {},
   "source": [
    "### 理論解説：再現期間とリターンレベル\n",
    "- リターンレベル z_T は「平均 T 年に 1 回超える強度」であり、GEV では分位点、GP では超過率と組み合わせて求める。\n",
    "- 設計基準では 50 年・100 年といった長い再現期間が求められるが、観測期間より長い外挿になるため不確実性に注意する。\n",
    "- GEV と GP の結果を比較し、一貫性があるかを確認することでモデルの信頼性を高める。\n"
   ]
  },
  {
   "cell_type": "code",
   "execution_count": 7,
   "id": "e9d4c564",
   "metadata": {
    "colab": {
     "base_uri": "https://localhost:8080/"
    },
    "id": "e9d4c564",
    "outputId": "0e2ada90-935e-473e-fbdd-424c74037234"
   },
   "outputs": [
    {
     "output_type": "stream",
     "name": "stdout",
     "text": [
      " 10‑year RL  |  GEV  135.2 mm   GP  131.5 mm\n",
      " 20‑year RL  |  GEV  161.0 mm   GP  153.8 mm\n",
      " 50‑year RL  |  GEV  199.9 mm   GP  187.0 mm\n",
      "100‑year RL  |  GEV  233.8 mm   GP  215.3 mm\n"
     ]
    }
   ],
   "source": [
    "\n",
    "# Return level from stationary GEV\n",
    "def gev_rl(T):\n",
    "    p = 1 / T\n",
    "    return genextreme.ppf(1 - p, c, loc=loc, scale=scale)\n",
    "\n",
    "# Exceedance rate per *year*\n",
    "lambda_u_year = exceed.size / len(tokyo) * 365.25  # len(tokyo) is number of days\n",
    "\n",
    "def gp_rl(T):\n",
    "    # Poisson‑GP formula with yearly rate\n",
    "    return u + (sigma_gp / xi_gp) * ((T * lambda_u_year) ** xi_gp - 1)\n",
    "\n",
    "for T in [10, 20, 50, 100]:\n",
    "    print(f\"{T:>3}‑year RL  |  GEV {gev_rl(T):6.1f} mm   GP {gp_rl(T):6.1f} mm\")\n"
   ]
  },
  {
   "cell_type": "markdown",
   "metadata": {},
   "source": [
    "### コード解説：GEV・GP によるリターンレベル計算\n",
    "1. `genextreme.ppf` で GEV の分位点を直接計算し、関数 `gp_rl` で Poisson 仮定に基づく GP の再現期間計算を実装する。\n",
    "2. `lambda_u_year` で年間超過回数を推定し、`u + (sigma_gp / xi_gp) * ((T * lambda_u_year) ** xi_gp - 1)` の形で再現レベルを計算している。\n",
    "3. 10・20・50・100 年と複数の再現期間を比較し、GEV/POT の整合性を示す。\n",
    "\n",
    "**チェックポイント**\n",
    "- `xi_gp` が 0 に近い場合、数値的に不安定になるためロピタルの極限形（対数型）を用意すると堅牢になる。\n",
    "- 実務では信頼区間や感度分析を提示し、単一推定値に依存しない意思決定を行う。\n"
   ]
  },
  {
   "cell_type": "markdown",
   "id": "1396f348",
   "metadata": {
    "id": "1396f348"
   },
   "source": [
    "## 7  Bootstrap Confidence Interval (50‑year RL)"
   ]
  },
  {
   "cell_type": "markdown",
   "metadata": {},
   "source": [
    "### 理論解説：ブートストラップによる不確実性評価\n",
    "- EVT 推定量はサンプルサイズが小さい場合にばらつきが大きいため、非パラメトリック・ブートストラップで分布を近似する。\n",
    "- ブロック最大値の再標本化では「年」を単位とした再抽出を行い、ブロック依存構造を保持する。\n",
    "- 得られた信頼区間は再現期間の設計値に対する不確実性を関係者に可視化するのに有用。\n"
   ]
  },
  {
   "cell_type": "code",
   "execution_count": 8,
   "id": "83a19318",
   "metadata": {
    "colab": {
     "base_uri": "https://localhost:8080/"
    },
    "id": "83a19318",
    "outputId": "b1e46c73-21c6-4f89-8ec6-6b420e1e6076"
   },
   "outputs": [
    {
     "output_type": "stream",
     "name": "stdout",
     "text": [
      "50‑year RL 95% CI (GEV): 156.9 – 273.9 mm\n"
     ]
    }
   ],
   "source": [
    "\n",
    "import numpy as np\n",
    "N_bs = 500\n",
    "rng = np.random.default_rng(0)\n",
    "rl50 = []\n",
    "for _ in range(N_bs):\n",
    "    samp = rng.choice(annual_max, size=len(annual_max), replace=True)\n",
    "    cb, locb, scaleb = genextreme.fit(samp)\n",
    "    rl50.append(genextreme.ppf(1-1/50, cb, locb, scaleb))\n",
    "ci_low, ci_high = np.percentile(rl50, [2.5, 97.5])\n",
    "print(f\"50‑year RL 95% CI (GEV): {ci_low:.1f} – {ci_high:.1f} mm\")\n"
   ]
  },
  {
   "cell_type": "markdown",
   "metadata": {},
   "source": [
    "### コード解説：GEV ブートストラップ\n",
    "1. `np.random.default_rng` を固定シードで呼び出し、再現性のある乱数列を生成する。\n",
    "2. 年最大値系列からリサンプリングした上で再度 GEV フィットを行い、50 年リターンレベルの分布 `rl50` を構築する。\n",
    "3. `np.percentile` で 95% 信頼区間を計算し、最終的に報告する設計値の幅を示す。\n",
    "\n",
    "**発展課題**\n",
    "- ブートストラップ回数 `N_bs` を増減させて区間幅の変化を調べる。\n",
    "- ブートストラップとベイズ推定（MCMC）を比較し、不確実性評価手法の違いを議論する。\n"
   ]
  },
  {
   "cell_type": "markdown",
   "id": "d76fc74b",
   "metadata": {
    "id": "d76fc74b"
   },
   "source": [
    "## 8‑B  Non‑stationary GEV (μ = β₀ + β₁·year)"
   ]
  },
  {
   "cell_type": "markdown",
   "metadata": {},
   "source": [
    "### 理論解説：非定常 GEV モデル\n",
    "- 気候変動や都市化の影響で降雨の統計特性が時間とともに変化する場合、位置パラメータ μ を年の線形関数としてモデリングする。\n",
    "- 最尤推定は非線形最適化となるため、初期値や制約条件によって収束性が左右される。\n",
    "- パラメータの統計的有意性は Wald 検定や尤度比検定で評価し、物理的妥当性（降雨が増加傾向かなど）と照合する。\n"
   ]
  },
  {
   "source": [
    "# --- 8-B  Non-stationary GEV  (μ = β₀ + β₁·year) ---------------------\n",
    "import scipy                       # new\n",
    "from scipy.stats import norm       # new\n",
    "\n",
    "import numpy as np\n",
    "from scipy.optimize import minimize\n",
    "from scipy.stats import genextreme\n",
    "\n",
    "# Prepare data\n",
    "annual_max = tokyo[\"precip\"].resample(\"YE\").max().dropna()\n",
    "years = annual_max.index.year.values.astype(float)\n",
    "x = annual_max.values\n",
    "\n",
    "# Center years to reduce numerical correlation\n",
    "yr0 = years.mean()\n",
    "t = years - yr0          # zero-mean covariate\n",
    "\n",
    "# Negative log-likelihood for GEV with μ(t) = β0 + β1·t\n",
    "def nll(params):\n",
    "    beta0, beta1, sigma, xi = params\n",
    "    mu = beta0 + beta1 * t\n",
    "    if sigma <= 0:\n",
    "        return np.inf\n",
    "    z = 1 + xi * (x - mu) / sigma\n",
    "    if np.any(z <= 0):\n",
    "        return np.inf\n",
    "    loglik = -np.sum(-np.log(sigma) - (1/xi + 1) * np.log(z) - z**(-1/xi))\n",
    "    return loglik\n",
    "\n",
    "# Initial guesses: use stationary GEV fit as starting point\n",
    "beta0_init = loc - xi * scale / (1 + xi)      # rough location\n",
    "beta1_init = 0.0\n",
    "sigma_init = scale\n",
    "xi_init    = xi\n",
    "\n",
    "res = minimize(\n",
    "    nll, x0=[beta0_init, beta1_init, sigma_init, xi_init],\n",
    "    bounds=[(None, None), (None, None), (1e-3, None), (-0.5, 0.5)],\n",
    "    method=\"L-BFGS-B\"\n",
    ")\n",
    "\n",
    "beta0, beta1, sigma_ns, xi_ns = res.x\n",
    "print(\"Converged:\", res.success)\n",
    "print(f\"β0 (mm)       : {beta0:.2f}\")\n",
    "print(f\"β1 (mm per yr): {beta1:.4f}\")\n",
    "print(f\"sigma (mm)    : {sigma_ns:.2f}\")\n",
    "print(f\"xi            : {xi_ns:.3f}\")\n",
    "\n",
    "# Quick significance check (Wald) via inverse Hessian\n",
    "hess_inv = res.hess_inv.todense()\n",
    "se_beta1 = np.sqrt(hess_inv[1,1])\n",
    "z_score  = beta1 / se_beta1\n",
    "p_value  = 2 * (1 - scipy.stats.norm.cdf(abs(z_score)))\n",
    "print(f\"\\nTrend p-value : {p_value:.3f}\")\n",
    "\n",
    "# 100-year return level for 2024 under the non-stationary model\n",
    "mu_2024 = beta0 + beta1 * (2024 - yr0)\n",
    "rl100   = genextreme.ppf(1-1/100, -xi_ns, loc=mu_2024, scale=sigma_ns)\n",
    "print(f\"\\nNon-stationary 100-yr RL (2024): {rl100:.1f} mm\")\n"
   ],
   "cell_type": "code",
   "metadata": {
    "colab": {
     "base_uri": "https://localhost:8080/"
    },
    "id": "UwOLEypWcWZy",
    "outputId": "6059f955-05d1-4df4-80d2-c2ea0ce3a51d"
   },
   "id": "UwOLEypWcWZy",
   "execution_count": 17,
   "outputs": [
    {
     "output_type": "stream",
     "name": "stdout",
     "text": [
      "Converged: True\n",
      "β0 (mm)       : 73.55\n",
      "β1 (mm per yr): 0.2935\n",
      "sigma (mm)    : 20.23\n",
      "xi            : 0.238\n",
      "\n",
      "Trend p-value : 0.055\n",
      "\n",
      "Non-stationary 100-yr RL (2024): 253.4 mm\n"
     ]
    }
   ]
  },
  {
   "cell_type": "markdown",
   "metadata": {},
   "source": [
    "### コード解説：非定常モデルの出力解釈\n",
    "1. `scipy.optimize.minimize` で L-BFGS-B を用い、位置パラメータ μ(t)=β₀+β₁·t、尺度 σ、形状 ξ を推定する。\n",
    "2. 推定後にヘッセ行列の逆行列から標準誤差を計算し、β₁ の Wald 検定でトレンド有意性を確認する。\n",
    "3. 推定した μ(t) を 2024 年に評価し、非定常モデルによる 100 年リターンレベルを算出する。\n",
    "\n",
    "**チェックポイント**\n",
    "- モデルの安定性を確かめるため、他の共変量（例：ENSO 指標、都市化指標）を追加した場合の比較を行う。\n",
    "- ξ が境界制約に近づくと収束が不安定になるので、テクニカルな調整（再パラメータ化）も検討する。\n"
   ]
  },
  {
   "cell_type": "markdown",
   "metadata": {},
   "source": [
    "## 用語集\n",
    "- **極値 (Extreme Value)**: 分布の裾に位置する稀な大きさの観測値。\n",
    "- **ブロック最大値法 (Block Maxima)**: 一定期間ごとの最大値に着目し GEV 分布を当てはめる手法。\n",
    "- **閾値超過法 (Peaks Over Threshold; POT)**: 高い閾値を超えた超過量に GP 分布を当てはめる手法。\n",
    "- **再現期間 (Return Period)**: 平均して T 期間に 1 回以上発生するイベントの期待間隔。\n",
    "- **リターンレベル (Return Level)**: 再現期間 T に対応する強度（降水量など）。\n",
    "- **MRL プロット**: 閾値を変化させた際の平均超過量を示し、閾値選択に用いる診断図。\n",
    "- **非定常モデル**: パラメータが時間や共変量に依存して変化するモデル。\n"
   ]
  },
  {
   "cell_type": "markdown",
   "metadata": {},
   "source": [
    "## 参考文献・推奨リソース\n",
    "- Coles, S. (2001). *An Introduction to Statistical Modeling of Extreme Values*. Springer.\n",
    "- Embrechts, P., Klüppelberg, C., & Mikosch, T. (1997). *Modelling Extremal Events*. Springer.\n",
    "- Katz, R. W., Parlange, M. B., & Naveau, P. (2002). \"Statistics of extremes in hydrology.\" *Advances in Water Resources*.\n",
    "- Leadbetter, M. R., Lindgren, G., & Rootzén, H. (1983). *Extremes and Related Properties of Random Sequences and Processes*.\n",
    "- Gilleland, E., & Katz, R. W. (2016). \"Extremes in the Earth system: Maximum likelihood estimation of the GEV distribution\". *Extremes*.\n",
    "- Python パッケージ: `scipy.stats`, `evmodels`, `pyextremes`（追加調査用）。\n",
    "- オンライン教材: *Extreme Value Analysis in R* (Coles 公式ノート), *Smith (1989) Estimation in Extreme Value Theory*。\n"
   ]
  },
  {
   "cell_type": "markdown",
   "metadata": {},
   "source": [
    "## セクション別チェックポイント・課題\n",
    "**Section 2-3**\n",
    "- データソースの信頼性と限界を 3 点挙げ、補正方法を提案せよ。\n",
    "\n",
    "**Section 4-6**\n",
    "- 年最大値ブロック長を 1 年以外に変更した場合の利点・欠点をまとめよ。\n",
    "- GEV と GP のリターンレベルが大きく乖離する場合、原因として考えられる要因を列挙し検証手順を示せ。\n",
    "\n",
    "**Section 7-8**\n",
    "- ブートストラップ以外の不確実性評価手法（情報量規準、ベイズ法など）を調査し比較表を作成する。\n",
    "- 非定常モデルのトレンド検定結果を外部気候指標と照合し、物理的な解釈を議論する。\n"
   ]
  }
 ],
 "metadata": {
  "colab": {
   "provenance": [],
   "include_colab_link": true
  },
  "language_info": {
   "name": "python"
  },
  "kernelspec": {
   "name": "python3",
   "display_name": "Python 3"
  }
 },
 "nbformat": 4,
 "nbformat_minor": 5
}